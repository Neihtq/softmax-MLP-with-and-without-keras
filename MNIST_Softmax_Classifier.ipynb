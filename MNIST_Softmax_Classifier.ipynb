{
  "nbformat": 4,
  "nbformat_minor": 0,
  "metadata": {
    "colab": {
      "name": "MNIST Softmax Classifier",
      "provenance": [],
      "machine_shape": "hm",
      "authorship_tag": "ABX9TyNB/VofgpXgjOfH0NjVcG2I",
      "include_colab_link": true
    },
    "kernelspec": {
      "name": "python3",
      "display_name": "Python 3"
    }
  },
  "cells": [
    {
      "cell_type": "markdown",
      "metadata": {
        "id": "view-in-github",
        "colab_type": "text"
      },
      "source": [
        "<a href=\"https://colab.research.google.com/github/neihtfool/softmax-MLP-with-and-without-keras/blob/master/MNIST_Softmax_Classifier.ipynb\" target=\"_parent\"><img src=\"https://colab.research.google.com/assets/colab-badge.svg\" alt=\"Open In Colab\"/></a>"
      ]
    },
    {
      "cell_type": "code",
      "metadata": {
        "id": "_O3f4wv8WQuj",
        "colab_type": "code",
        "colab": {}
      },
      "source": [
        "import tensorflow as tf\n",
        "import numpy as np\n",
        "import matplotlib.pyplot as plt"
      ],
      "execution_count": 0,
      "outputs": []
    },
    {
      "cell_type": "code",
      "metadata": {
        "id": "7qczcvNvWUw9",
        "colab_type": "code",
        "outputId": "f75a5c22-94fa-426e-a03d-3931151c87aa",
        "colab": {
          "base_uri": "https://localhost:8080/",
          "height": 34
        }
      },
      "source": [
        "print(tf.__version__)"
      ],
      "execution_count": 2,
      "outputs": [
        {
          "output_type": "stream",
          "text": [
            "2.1.0\n"
          ],
          "name": "stdout"
        }
      ]
    },
    {
      "cell_type": "code",
      "metadata": {
        "id": "jK3UGSrUXo1s",
        "colab_type": "code",
        "outputId": "8b4a213c-05d5-4c43-91b8-082f3186e484",
        "colab": {
          "base_uri": "https://localhost:8080/",
          "height": 282
        }
      },
      "source": [
        "mnist = tf.keras.datasets.mnist\n",
        "\n",
        "(x_train, y_train), (x_test, y_test) = mnist.load_data()\n",
        "i = 6\n",
        "plt.imshow(x_train[i])\n",
        "print(\"y = \" + str(y_train[i]))\n",
        "\n",
        "x_train, x_test = x_train / 255., x_test / 255."
      ],
      "execution_count": 3,
      "outputs": [
        {
          "output_type": "stream",
          "text": [
            "y = 1\n"
          ],
          "name": "stdout"
        },
        {
          "output_type": "display_data",
          "data": {
            "image/png": "[encoded data removed]",
            "text/plain": [
              "<Figure size 432x288 with 1 Axes>"
            ]
          },
          "metadata": {
            "tags": []
          }
        }
      ]
    },
    {
      "cell_type": "code",
      "metadata": {
        "id": "vbIFlozdX4sh",
        "colab_type": "code",
        "outputId": "22d004a3-b574-4e45-80f6-e3cffa31ae60",
        "colab": {
          "base_uri": "https://localhost:8080/",
          "height": 34
        }
      },
      "source": [
        "x_train.shape"
      ],
      "execution_count": 4,
      "outputs": [
        {
          "output_type": "execute_result",
          "data": {
            "text/plain": [
              "(60000, 28, 28)"
            ]
          },
          "metadata": {
            "tags": []
          },
          "execution_count": 4
        }
      ]
    },
    {
      "cell_type": "markdown",
      "metadata": {
        "id": "inqfsHenvvRj",
        "colab_type": "text"
      },
      "source": [
        "# With Tensorflow.Keras"
      ]
    },
    {
      "cell_type": "code",
      "metadata": {
        "id": "RJWHhUYQX-1q",
        "colab_type": "code",
        "colab": {}
      },
      "source": [
        "model = tf.keras.models.Sequential([\n",
        "                                    tf.keras.layers.Flatten(input_shape=(28, 28)),\n",
        "                                    tf.keras.layers.Dense(128, activation='relu'),\n",
        "                                    tf.keras.layers.Dropout(0.2),\n",
        "                                    tf.keras.layers.Dense(10)\n",
        "])"
      ],
      "execution_count": 0,
      "outputs": []
    },
    {
      "cell_type": "code",
      "metadata": {
        "id": "ed6CCZL_YQMn",
        "colab_type": "code",
        "outputId": "90e73d86-0efa-4c29-b81d-db174adee80d",
        "colab": {
          "base_uri": "https://localhost:8080/",
          "height": 190
        }
      },
      "source": [
        "preds = model(x_train[:1]).numpy()\n",
        "preds"
      ],
      "execution_count": 6,
      "outputs": [
        {
          "output_type": "stream",
          "text": [
            "WARNING:tensorflow:Layer flatten is casting an input tensor from dtype float64 to the layer's dtype of float32, which is new behavior in TensorFlow 2.  The layer has dtype float32 because it's dtype defaults to floatx.\n",
            "\n",
            "If you intended to run this layer in float32, you can safely ignore this warning. If in doubt, this warning is likely only an issue if you are porting a TensorFlow 1.X model to TensorFlow 2.\n",
            "\n",
            "To change all layers to have dtype float64 by default, call `tf.keras.backend.set_floatx('float64')`. To change just this layer, pass dtype='float64' to the layer constructor. If you are the author of this layer, you can disable autocasting by passing autocast=False to the base Layer constructor.\n",
            "\n"
          ],
          "name": "stdout"
        },
        {
          "output_type": "execute_result",
          "data": {
            "text/plain": [
              "array([[-0.11708179, -0.39065248,  0.33906624, -0.6871149 , -0.17686728,\n",
              "        -0.21643054, -0.89156383, -0.35665596, -0.23353086,  0.36341557]],\n",
              "      dtype=float32)"
            ]
          },
          "metadata": {
            "tags": []
          },
          "execution_count": 6
        }
      ]
    },
    {
      "cell_type": "code",
      "metadata": {
        "id": "enoRbFY5YZbF",
        "colab_type": "code",
        "colab": {
          "base_uri": "https://localhost:8080/",
          "height": 68
        },
        "outputId": "b522119a-7aa7-4ae4-a499-4b796eb58dec"
      },
      "source": [
        "tf.nn.softmax(preds).numpy()"
      ],
      "execution_count": 7,
      "outputs": [
        {
          "output_type": "execute_result",
          "data": {
            "text/plain": [
              "array([[0.10519228, 0.08001541, 0.16599172, 0.05948694, 0.09908761,\n",
              "        0.09524391, 0.04848759, 0.08278242, 0.09362906, 0.17008312]],\n",
              "      dtype=float32)"
            ]
          },
          "metadata": {
            "tags": []
          },
          "execution_count": 7
        }
      ]
    },
    {
      "cell_type": "code",
      "metadata": {
        "id": "dCHwnWAdYhUW",
        "colab_type": "code",
        "colab": {}
      },
      "source": [
        "loss_fn = tf.keras.losses.SparseCategoricalCrossentropy(from_logits = True)"
      ],
      "execution_count": 0,
      "outputs": []
    },
    {
      "cell_type": "code",
      "metadata": {
        "id": "AmB7EeAyY3Em",
        "colab_type": "code",
        "colab": {
          "base_uri": "https://localhost:8080/",
          "height": 34
        },
        "outputId": "08f5cf71-0f07-4a83-b442-cc6d80684fea"
      },
      "source": [
        "loss_fn(y_train[:1], preds).numpy()"
      ],
      "execution_count": 9,
      "outputs": [
        {
          "output_type": "execute_result",
          "data": {
            "text/plain": [
              "2.351314"
            ]
          },
          "metadata": {
            "tags": []
          },
          "execution_count": 9
        }
      ]
    },
    {
      "cell_type": "code",
      "metadata": {
        "id": "dgn-_6naZBta",
        "colab_type": "code",
        "colab": {}
      },
      "source": [
        "model.compile(optimizer='adam',\n",
        "              loss=loss_fn,\n",
        "              metrics=['accuracy'])"
      ],
      "execution_count": 0,
      "outputs": []
    },
    {
      "cell_type": "code",
      "metadata": {
        "id": "QqY8X_XwZtJ6",
        "colab_type": "code",
        "colab": {
          "base_uri": "https://localhost:8080/",
          "height": 241
        },
        "outputId": "66d0c504-1338-41f1-a739-f17cc612547c"
      },
      "source": [
        "model.fit(x_train, y_train, epochs=5)"
      ],
      "execution_count": 11,
      "outputs": [
        {
          "output_type": "stream",
          "text": [
            "Train on 60000 samples\n",
            "Epoch 1/5\n",
            "60000/60000 [==============================] - 5s 85us/sample - loss: 0.2967 - accuracy: 0.9134\n",
            "Epoch 2/5\n",
            "60000/60000 [==============================] - 6s 97us/sample - loss: 0.1427 - accuracy: 0.9582\n",
            "Epoch 3/5\n",
            "60000/60000 [==============================] - 4s 72us/sample - loss: 0.1068 - accuracy: 0.9676\n",
            "Epoch 4/5\n",
            "60000/60000 [==============================] - 4s 74us/sample - loss: 0.0877 - accuracy: 0.9733\n",
            "Epoch 5/5\n",
            "60000/60000 [==============================] - 4s 69us/sample - loss: 0.0733 - accuracy: 0.9771\n"
          ],
          "name": "stdout"
        },
        {
          "output_type": "execute_result",
          "data": {
            "text/plain": [
              "<tensorflow.python.keras.callbacks.History at 0x7f436b53d898>"
            ]
          },
          "metadata": {
            "tags": []
          },
          "execution_count": 11
        }
      ]
    },
    {
      "cell_type": "code",
      "metadata": {
        "id": "1OePwVJeZxOw",
        "colab_type": "code",
        "colab": {
          "base_uri": "https://localhost:8080/",
          "height": 241
        },
        "outputId": "110197ea-7d7f-4e91-8b62-fc45870c47ba"
      },
      "source": [
        "model.fit(x_train, y_train, epochs=5)"
      ],
      "execution_count": 12,
      "outputs": [
        {
          "output_type": "stream",
          "text": [
            "Train on 60000 samples\n",
            "Epoch 1/5\n",
            "60000/60000 [==============================] - 4s 67us/sample - loss: 0.0658 - accuracy: 0.9784\n",
            "Epoch 2/5\n",
            "60000/60000 [==============================] - 4s 69us/sample - loss: 0.0592 - accuracy: 0.9805\n",
            "Epoch 3/5\n",
            "60000/60000 [==============================] - 4s 70us/sample - loss: 0.0536 - accuracy: 0.9829\n",
            "Epoch 4/5\n",
            "60000/60000 [==============================] - 4s 70us/sample - loss: 0.0487 - accuracy: 0.9840\n",
            "Epoch 5/5\n",
            "60000/60000 [==============================] - 4s 68us/sample - loss: 0.0467 - accuracy: 0.9844\n"
          ],
          "name": "stdout"
        },
        {
          "output_type": "execute_result",
          "data": {
            "text/plain": [
              "<tensorflow.python.keras.callbacks.History at 0x7f4367f553c8>"
            ]
          },
          "metadata": {
            "tags": []
          },
          "execution_count": 12
        }
      ]
    },
    {
      "cell_type": "code",
      "metadata": {
        "id": "lKnuX1pUaCfU",
        "colab_type": "code",
        "colab": {
          "base_uri": "https://localhost:8080/",
          "height": 51
        },
        "outputId": "0790b773-1ab6-412d-88bf-4582914c335a"
      },
      "source": [
        "model.evaluate(x_test, y_test, verbose=2)"
      ],
      "execution_count": 13,
      "outputs": [
        {
          "output_type": "stream",
          "text": [
            "10000/10000 - 0s - loss: 0.0685 - accuracy: 0.9804\n"
          ],
          "name": "stdout"
        },
        {
          "output_type": "execute_result",
          "data": {
            "text/plain": [
              "[0.06847326648716408, 0.9804]"
            ]
          },
          "metadata": {
            "tags": []
          },
          "execution_count": 13
        }
      ]
    },
    {
      "cell_type": "code",
      "metadata": {
        "id": "l4_3_aA8aT7d",
        "colab_type": "code",
        "colab": {}
      },
      "source": [
        "probability_model = tf.keras.Sequential([\n",
        "                                         model,\n",
        "                                         tf.keras.layers.Softmax()\n",
        "])"
      ],
      "execution_count": 0,
      "outputs": []
    },
    {
      "cell_type": "code",
      "metadata": {
        "id": "IrNu6Qtdaflz",
        "colab_type": "code",
        "colab": {
          "base_uri": "https://localhost:8080/",
          "height": 289
        },
        "outputId": "d01a71b3-a396-4cf3-cef8-f9ba0de93187"
      },
      "source": [
        "probability_model(x_test[:5])"
      ],
      "execution_count": 15,
      "outputs": [
        {
          "output_type": "execute_result",
          "data": {
            "text/plain": [
              "<tf.Tensor: shape=(5, 10), dtype=float32, numpy=\n",
              "array([[8.7315444e-10, 6.4075403e-09, 3.6084220e-08, 6.3934804e-06,\n",
              "        9.8682151e-15, 4.3914677e-10, 5.6504902e-18, 9.9999332e-01,\n",
              "        7.1345752e-09, 2.6313427e-07],\n",
              "       [2.3168447e-09, 9.7727366e-07, 9.9999893e-01, 5.2029499e-08,\n",
              "        4.5734646e-21, 7.4507917e-12, 4.1069734e-11, 8.6613288e-18,\n",
              "        2.8599829e-09, 4.2362467e-17],\n",
              "       [2.2997739e-08, 9.9992335e-01, 5.3103163e-06, 5.9729352e-08,\n",
              "        4.1716944e-06, 1.4498552e-07, 5.4079983e-06, 1.0738496e-05,\n",
              "        5.0787290e-05, 1.2306915e-08],\n",
              "       [9.9999630e-01, 9.2894975e-10, 4.5402530e-07, 1.0768625e-10,\n",
              "        2.6654889e-10, 1.2216610e-06, 1.0675840e-06, 7.9701857e-07,\n",
              "        8.8965879e-10, 1.4554971e-07],\n",
              "       [5.4454738e-08, 6.6977359e-13, 1.1815063e-07, 3.8568128e-11,\n",
              "        9.9891043e-01, 1.4239079e-09, 4.5288133e-09, 3.3191591e-06,\n",
              "        5.3871538e-09, 1.0860772e-03]], dtype=float32)>"
            ]
          },
          "metadata": {
            "tags": []
          },
          "execution_count": 15
        }
      ]
    },
    {
      "cell_type": "code",
      "metadata": {
        "id": "u5biTYEvT4OU",
        "colab_type": "code",
        "colab": {}
      },
      "source": [
        "predictions = model.predict(x_test[:5])"
      ],
      "execution_count": 0,
      "outputs": []
    },
    {
      "cell_type": "code",
      "metadata": {
        "id": "RTj03DXOT5l6",
        "colab_type": "code",
        "colab": {
          "base_uri": "https://localhost:8080/",
          "height": 316
        },
        "outputId": "14054b3e-3c7e-4a63-8e17-e298cd471181"
      },
      "source": [
        "print(\"Prediction:\",np.argmax(predictions[0]))\n",
        "print(\"True Label =\", y_test[0])\n",
        "plt.imshow(x_test[0])"
      ],
      "execution_count": 42,
      "outputs": [
        {
          "output_type": "stream",
          "text": [
            "Prediction: 7\n",
            "True Label = 7\n"
          ],
          "name": "stdout"
        },
        {
          "output_type": "execute_result",
          "data": {
            "text/plain": [
              "<matplotlib.image.AxesImage at 0x7f436030e8d0>"
            ]
          },
          "metadata": {
            "tags": []
          },
          "execution_count": 42
        },
        {
          "output_type": "display_data",
          "data": {
            "image/png": "[encoded data removed]",
            "text/plain": [
              "<Figure size 432x288 with 1 Axes>"
            ]
          },
          "metadata": {
            "tags": []
          }
        }
      ]
    },
    {
      "cell_type": "markdown",
      "metadata": {
        "id": "biKcJVRzbFF1",
        "colab_type": "text"
      },
      "source": [
        "# L-Layer deep network without Tensorflow"
      ]
    },
    {
      "cell_type": "code",
      "metadata": {
        "id": "XynEVz9htI_K",
        "colab_type": "code",
        "colab": {}
      },
      "source": [
        "from sklearn.preprocessing import OneHotEncoder"
      ],
      "execution_count": 0,
      "outputs": []
    },
    {
      "cell_type": "code",
      "metadata": {
        "id": "g_9qmlBfbIfi",
        "colab_type": "code",
        "outputId": "29c302fb-0928-4817-e006-418cb3cc44e3",
        "colab": {
          "base_uri": "https://localhost:8080/",
          "height": 85
        }
      },
      "source": [
        "t1 = x_train[0:10000]\n",
        "t2 = x_test[0:200]\n",
        "t3 = y_train[0:10000]\n",
        "t4 = y_test[0:200]\n",
        "\n",
        "train_x = t1.reshape((t1.shape[0], -1))\n",
        "test_x = t2.reshape((t2.shape[0], -1))\n",
        "\n",
        "enc = OneHotEncoder(sparse=False, categories='auto')\n",
        "train_y = enc.fit_transform(t3.reshape(len(t3), -1))\n",
        "test_y = enc.transform(t4.reshape(len(t4), -1))\n",
        "\n",
        "print(\"train_x shape:\", train_x.shape)\n",
        "print(\"test_x shape:\", test_x.shape)\n",
        "print(\"train_y shape:\", train_y.shape)\n",
        "print(\"test_y shape:\", test_y.shape)"
      ],
      "execution_count": 20,
      "outputs": [
        {
          "output_type": "stream",
          "text": [
            "train_x shape: (10000, 784)\n",
            "test_x shape: (200, 784)\n",
            "train_y shape: (10000, 10)\n",
            "test_y shape: (200, 10)\n"
          ],
          "name": "stdout"
        }
      ]
    },
    {
      "cell_type": "code",
      "metadata": {
        "id": "64cLOTyJqQ7-",
        "colab_type": "code",
        "outputId": "24116110-fd31-415f-b2b6-ef257af3aae0",
        "colab": {
          "base_uri": "https://localhost:8080/",
          "height": 51
        }
      },
      "source": [
        "print(train_y.shape)\n",
        "print(y_train.shape)"
      ],
      "execution_count": 21,
      "outputs": [
        {
          "output_type": "stream",
          "text": [
            "(10000, 10)\n",
            "(60000,)\n"
          ],
          "name": "stdout"
        }
      ]
    },
    {
      "cell_type": "code",
      "metadata": {
        "id": "MYCrMOuccJmt",
        "colab_type": "code",
        "colab": {}
      },
      "source": [
        "layer_dims = [784, 50, 10]"
      ],
      "execution_count": 0,
      "outputs": []
    },
    {
      "cell_type": "code",
      "metadata": {
        "id": "NTsIwkOUfP3h",
        "colab_type": "code",
        "colab": {}
      },
      "source": [
        "def init_params(layer_dims):\n",
        "  parameters = {}\n",
        "  L = len(layer_dims)\n",
        "  for l in range(1, L):\n",
        "    parameters['W' + str(l)] = np.random.randn(layer_dims[l], layer_dims[l-1]) * 0.01\n",
        "    parameters['b' + str(l)] = np.zeros((layer_dims[l], 1))\n",
        "  return parameters"
      ],
      "execution_count": 0,
      "outputs": []
    },
    {
      "cell_type": "code",
      "metadata": {
        "id": "xqmA7DD0gqQT",
        "colab_type": "code",
        "colab": {}
      },
      "source": [
        "def forwardpass(X, parameters):\n",
        "  caches = []\n",
        "  A = X.T\n",
        "  L = len(parameters) // 2\n",
        "  \n",
        "  for l in range(1, L):\n",
        "    A_prev = A\n",
        "    A, cache = linear_activation_forward(A_prev, parameters['W' + str(l)], parameters[\"b\" + str(l)], activation=\"sigmoid\")\n",
        "    caches.append(cache)\n",
        "  \n",
        "  AL, cache = linear_activation_forward(A, parameters[\"W\" + str(L)], parameters[\"b\" + str(L)], activation=\"softmax\")\n",
        "  caches.append(cache)\n",
        "\n",
        "  return AL, caches"
      ],
      "execution_count": 0,
      "outputs": []
    },
    {
      "cell_type": "code",
      "metadata": {
        "id": "hPO4l__UhgC0",
        "colab_type": "code",
        "colab": {}
      },
      "source": [
        "def linear_activation_forward(A_prev, W, b, activation):\n",
        "  Z, linear_cache = linear_forward(A_prev, W, b)\n",
        "  \n",
        "  if activation == \"relu\":\n",
        "    A, activation_cache = relu(Z)\n",
        "  if activation == \"sigmoid\":\n",
        "    A, activation_cache = sigmoid(Z)\n",
        "  if activation == \"softmax\":\n",
        "    A, activation_cache = softmax(Z)\n",
        "\n",
        "  cache = (linear_cache, activation_cache)\n",
        "  return A, cache"
      ],
      "execution_count": 0,
      "outputs": []
    },
    {
      "cell_type": "code",
      "metadata": {
        "id": "QZJ02w-3iXjv",
        "colab_type": "code",
        "colab": {}
      },
      "source": [
        "def linear_forward(A, W, b):\n",
        "  Z = W.dot(A) + b\n",
        "  cache = (A, W, b)\n",
        "  return Z, cache"
      ],
      "execution_count": 0,
      "outputs": []
    },
    {
      "cell_type": "code",
      "metadata": {
        "id": "roz7tnESicfO",
        "colab_type": "code",
        "colab": {}
      },
      "source": [
        "def relu(Z):\n",
        "  A = np.maximum(0, Z)\n",
        "  cache = Z\n",
        "  return A, cache"
      ],
      "execution_count": 0,
      "outputs": []
    },
    {
      "cell_type": "code",
      "metadata": {
        "id": "Irs5R29uiose",
        "colab_type": "code",
        "colab": {}
      },
      "source": [
        "def relu_backward(dA, cache):\n",
        "  Z = cache\n",
        "  dZ = np.array(dA, copy=True)\n",
        "  dZ[Z <= 0] = 0\n",
        "  \n",
        "  return dZ"
      ],
      "execution_count": 0,
      "outputs": []
    },
    {
      "cell_type": "code",
      "metadata": {
        "id": "shMZanw5pBHm",
        "colab_type": "code",
        "colab": {}
      },
      "source": [
        "def sigmoid(Z):\n",
        "  A = 1 / (1+np.exp(-Z))\n",
        "  cache = Z \n",
        "  return A, cache"
      ],
      "execution_count": 0,
      "outputs": []
    },
    {
      "cell_type": "code",
      "metadata": {
        "id": "bE-mfy-fp1Pa",
        "colab_type": "code",
        "colab": {}
      },
      "source": [
        "def sigmoid_backward(dA, cache):\n",
        "  Z = cache\n",
        "  s = 1/(1+np.exp(-Z))\n",
        "  dZ = dA * s * (1 - s)\n",
        "  return dZ"
      ],
      "execution_count": 0,
      "outputs": []
    },
    {
      "cell_type": "code",
      "metadata": {
        "id": "lG7fAaB8iz3I",
        "colab_type": "code",
        "colab": {}
      },
      "source": [
        "def softmax(Z):\n",
        "  e_x = np.exp(Z - np.max(Z))\n",
        "  A = e_x / e_x.sum(axis=0, keepdims=True)\n",
        "  cache = Z\n",
        "  return A, cache"
      ],
      "execution_count": 0,
      "outputs": []
    },
    {
      "cell_type": "code",
      "metadata": {
        "id": "Z8qGhEoEG7vT",
        "colab_type": "code",
        "colab": {}
      },
      "source": [
        "def sigmoid_derivative(Z):\n",
        "  s = 1 / (1 + np.exp(-Z))\n",
        "  return s * (1 - s)"
      ],
      "execution_count": 0,
      "outputs": []
    },
    {
      "cell_type": "code",
      "metadata": {
        "id": "SycGYYdFkgWZ",
        "colab_type": "code",
        "colab": {}
      },
      "source": [
        "def backwardpass(AL, Y, caches):\n",
        "  grads = {}\n",
        "  L = len(caches)\n",
        "  n = AL.shape[1]\n",
        "  Y = Y.reshape(AL.shape)\n",
        "\n",
        "  # softmax derivation with cost function\n",
        "  dAL = AL - Y\n",
        "  curr_cache = caches[L-1]\n",
        "  grads[\"dA\" + str(L-1)], grads[\"dW\" + str(L)], grads[\"db\" + str(L)] = linear_activation_backward(dAL, curr_cache, activation=\"softmax\")\n",
        "\n",
        "  for l in reversed(range(L-1)):\n",
        "    curr_cache = caches[l]\n",
        "    dA_prev, dW, db = linear_activation_backward(grads[\"dA\" + str(l+1)], curr_cache, activation = \"sigmoid\")\n",
        "    grads[\"dA\" + str(l)] = dA_prev\n",
        "    grads[\"dW\" + str(l + 1)] = dW\n",
        "    grads[\"db\" + str(l + 1)] = db \n",
        "\n",
        "  return grads"
      ],
      "execution_count": 0,
      "outputs": []
    },
    {
      "cell_type": "code",
      "metadata": {
        "id": "-b-iYkz4n7QE",
        "colab_type": "code",
        "colab": {}
      },
      "source": [
        "def linear_activation_backward(dA, cache, activation):\n",
        "  linear_cache, activation_cache = cache\n",
        "  \n",
        "  if activation == \"relu\":\n",
        "    dZ = relu_backward(dA, activation_cache)\n",
        "  if activation == \"sigmoid\":\n",
        "    dZ = sigmoid_backward(dA, activation_cache)\n",
        "  elif activation == \"softmax\":\n",
        "    dZ = dA\n",
        "  \n",
        "  dA_prev, dW, db = linear_backward(dZ, linear_cache)\n",
        "  return dA_prev, dW, db"
      ],
      "execution_count": 0,
      "outputs": []
    },
    {
      "cell_type": "code",
      "metadata": {
        "id": "LZJeEcq7od43",
        "colab_type": "code",
        "colab": {}
      },
      "source": [
        "def linear_backward(dZ, cache):\n",
        "  A_prev, W, b = cache\n",
        "  n = A_prev.shape[1]\n",
        "\n",
        "  dW = 1./n * np.dot(dZ, A_prev.T)\n",
        "  db = 1./n * np.sum(dZ, axis=1, keepdims=True)\n",
        "  dA_prev = np.dot(W.T, dZ)\n",
        "\n",
        "  return dA_prev, dW, db"
      ],
      "execution_count": 0,
      "outputs": []
    },
    {
      "cell_type": "code",
      "metadata": {
        "id": "2IqWdqTgoyJW",
        "colab_type": "code",
        "colab": {}
      },
      "source": [
        "def update_parameters(parameters, grads, learning_rate):\n",
        "  L = len(parameters) // 2\n",
        "  for l in range(1,L+1):\n",
        "    parameters[\"W\" + str(l)] = parameters[\"W\" + str(l)] - learning_rate * grads[\"dW\" + str(l)]\n",
        "    parameters[\"b\" + str(l)] = parameters[\"b\" + str(l)] - learning_rate * grads[\"db\" + str(l)]\n",
        "  return parameters"
      ],
      "execution_count": 0,
      "outputs": []
    },
    {
      "cell_type": "code",
      "metadata": {
        "id": "J7jIXGl9dWNA",
        "colab_type": "code",
        "colab": {}
      },
      "source": [
        "def model(X, Y, layer_dims, learning_rate = 0.001, epochs = 5, print_cost = True):\n",
        "  costs = []\n",
        "  parameters = init_params(layer_dims)\n",
        "  for i in range(epochs):\n",
        "    AL, caches = forwardpass(X, parameters)\n",
        "    cost = -np.mean(Y * np.log(AL.T + 1e-8)) # add very small number 1e-8 to avoid log(0)\n",
        "    grads = backwardpass(AL, Y, caches)\n",
        "    parameters = update_parameters(parameters, grads, learning_rate)\n",
        "\n",
        "    if print_cost and i % 100 == 0:\n",
        "      print(\"Cost after iteration %i: %f\" % (i, cost))\n",
        "      if i % 5 == 0:\n",
        "        costs.append(cost)\n",
        "\n",
        "  plt.plot(np.squeeze(costs))\n",
        "  plt.ylabel('cost')\n",
        "  plt.xlabel('iterations (per 100s)')\n",
        "  plt.title(\"Learning rate = \" + str(learning_rate))\n",
        "  plt.show()\n",
        "\n",
        "  return parameters"
      ],
      "execution_count": 0,
      "outputs": []
    },
    {
      "cell_type": "code",
      "metadata": {
        "id": "lw8J0HgwpJ-5",
        "colab_type": "code",
        "outputId": "093ceb3f-e8b6-4abd-acaa-46e1e33808c9",
        "colab": {
          "base_uri": "https://localhost:8080/",
          "height": 465
        }
      },
      "source": [
        "parameters = model(train_x, train_y, layer_dims, learning_rate=0.1, epochs=1000)"
      ],
      "execution_count": 38,
      "outputs": [
        {
          "output_type": "stream",
          "text": [
            "Cost after iteration 0: 0.230423\n",
            "Cost after iteration 100: 0.230267\n",
            "Cost after iteration 200: 0.230268\n",
            "Cost after iteration 300: 0.230270\n",
            "Cost after iteration 400: 0.230273\n",
            "Cost after iteration 500: 0.230275\n",
            "Cost after iteration 600: 0.230279\n",
            "Cost after iteration 700: 0.230283\n",
            "Cost after iteration 800: 0.230288\n",
            "Cost after iteration 900: 0.230294\n"
          ],
          "name": "stdout"
        },
        {
          "output_type": "display_data",
          "data": {
            "image/png": "[encoded data removed]",
            "text/plain": [
              "<Figure size 432x288 with 1 Axes>"
            ]
          },
          "metadata": {
            "tags": []
          }
        }
      ]
    },
    {
      "cell_type": "code",
      "metadata": {
        "id": "J4oOLvEMV5D6",
        "colab_type": "code",
        "colab": {}
      },
      "source": [
        "def predict(X, y, parameters):\n",
        "    predictions, caches = forwardpass(X, parameters)\n",
        "    return predictions.T"
      ],
      "execution_count": 0,
      "outputs": []
    },
    {
      "cell_type": "code",
      "metadata": {
        "id": "8Y-mEIieWsnr",
        "colab_type": "code",
        "colab": {
          "base_uri": "https://localhost:8080/",
          "height": 316
        },
        "outputId": "31865b3e-856b-4683-e267-d1cbb79f15bb"
      },
      "source": [
        "idx = 1\n",
        "predictions_no_tf = predict(test_x, test_y, parameters)\n",
        "print(np.argmax(predictions_no_tf[idx]))\n",
        "print(\"y =\", y_test[idx])\n",
        "plt.imshow(x_test[idx])"
      ],
      "execution_count": 59,
      "outputs": [
        {
          "output_type": "stream",
          "text": [
            "2\n",
            "y = 2\n"
          ],
          "name": "stdout"
        },
        {
          "output_type": "execute_result",
          "data": {
            "text/plain": [
              "<matplotlib.image.AxesImage at 0x7f4367f4cc50>"
            ]
          },
          "metadata": {
            "tags": []
          },
          "execution_count": 59
        },
        {
          "output_type": "display_data",
          "data": {
            "image/png": "[encoded data removed]",
            "text/plain": [
              "<Figure size 432x288 with 1 Axes>"
            ]
          },
          "metadata": {
            "tags": []
          }
        }
      ]
    },
    {
      "cell_type": "code",
      "metadata": {
        "id": "T18NTEC3XXTL",
        "colab_type": "code",
        "colab": {
          "base_uri": "https://localhost:8080/",
          "height": 316
        },
        "outputId": "9d928a21-29ef-477c-92aa-176882678e9d"
      },
      "source": [
        "idx = 2\n",
        "predictions_no_tf = predict(test_x, test_y, parameters)\n",
        "print(np.argmax(predictions_no_tf[idx]))\n",
        "print(\"y =\", y_test[idx])\n",
        "plt.imshow(x_test[idx])"
      ],
      "execution_count": 60,
      "outputs": [
        {
          "output_type": "stream",
          "text": [
            "4\n",
            "y = 1\n"
          ],
          "name": "stdout"
        },
        {
          "output_type": "execute_result",
          "data": {
            "text/plain": [
              "<matplotlib.image.AxesImage at 0x7f436252a358>"
            ]
          },
          "metadata": {
            "tags": []
          },
          "execution_count": 60
        },
        {
          "output_type": "display_data",
          "data": {
            "image/png": "[encoded data removed]",
            "text/plain": [
              "<Figure size 432x288 with 1 Axes>"
            ]
          },
          "metadata": {
            "tags": []
          }
        }
      ]
    },
    {
      "cell_type": "markdown",
      "metadata": {
        "id": "2coPt0KPVe8A",
        "colab_type": "text"
      },
      "source": [
        "The network doesn't seem to learn properly and therefore the model has poor performance regardless which hyperparameters are chosen. Needs to be investigated further, probably a mistake within the implementation (?)"
      ]
    }
  ]
}